{
 "cells": [
  {
   "cell_type": "markdown",
   "metadata": {
    "toc": "true"
   },
   "source": [
    "# Table of Contents\n",
    " <p>"
   ]
  },
  {
   "cell_type": "code",
   "execution_count": 1,
   "metadata": {
    "ExecuteTime": {
     "end_time": "2017-11-29T13:43:30.493427Z",
     "start_time": "2017-11-29T13:43:29.462885Z"
    },
    "collapsed": true
   },
   "outputs": [],
   "source": [
    "%matplotlib notebook\n",
    "import numpy as np\n",
    "import pandas as pd \n",
    "import matplotlib.pyplot as plt\n",
    "\n",
    "import glob\n",
    "import os\n",
    "from geopy.distance import vincenty"
   ]
  },
  {
   "cell_type": "code",
   "execution_count": 2,
   "metadata": {
    "ExecuteTime": {
     "end_time": "2017-11-29T13:43:30.500464Z",
     "start_time": "2017-11-29T13:43:30.495731Z"
    },
    "collapsed": true
   },
   "outputs": [],
   "source": [
    "#data_path = \"/Users/jennavergeynst/Documents/Altusried/VPS_Test_Results_VEMCO/data/\"\n",
    "# for binder:\n",
    "data_path = '../data/'\n"
   ]
  },
  {
   "cell_type": "code",
   "execution_count": 3,
   "metadata": {
    "ExecuteTime": {
     "end_time": "2017-11-29T13:43:30.596156Z",
     "start_time": "2017-11-29T13:43:30.504670Z"
    },
    "collapsed": false
   },
   "outputs": [],
   "source": [
    "walls = pd.read_csv(data_path+'QGIS/studysite.csv')\n",
    "test_pos = pd.read_csv(data_path+'fish-csv/all.csv', parse_dates=['Time'], infer_datetime_format=True)\n",
    "gps_data = pd.read_csv(data_path+'Alle_GPS_tracks_10aug2017.csv', parse_dates=['time'], infer_datetime_format=True).sort_values(by='time').set_index('time')\n",
    "Overview_coo_timing_range_test = pd.read_excel(data_path+'Overview_coördinates_and_timing_range_test_set_ups.xlsx', sheet_name='Thursday', skiprows=6)"
   ]
  },
  {
   "cell_type": "code",
   "execution_count": null,
   "metadata": {
    "ExecuteTime": {
     "end_time": "2017-11-29T12:52:38.247016Z",
     "start_time": "2017-11-29T12:52:38.239583Z"
    },
    "collapsed": false,
    "run_control": {
     "marked": false
    }
   },
   "outputs": [],
   "source": [
    "def find_gps_coo(row):\n",
    "    return gps_data.iloc[gps_data.index.get_loc(test_pos.Time[row], method='nearest')]"
   ]
  },
  {
   "cell_type": "code",
   "execution_count": null,
   "metadata": {
    "ExecuteTime": {
     "end_time": "2017-11-29T12:52:39.238757Z",
     "start_time": "2017-11-29T12:52:38.697255Z"
    },
    "collapsed": false
   },
   "outputs": [],
   "source": [
    "test_pos['LAT_GPS'] = [find_gps_coo(i).latitude for i in np.arange(len(test_pos))]\n",
    "test_pos['LON_GPS'] = [find_gps_coo(i).longitude for i in np.arange(len(test_pos))]\n",
    "\n",
    "test_pos['error'] = test_pos.apply(lambda row: vincenty((row.Latitude, row.Longitude), (row.LAT_GPS, row.LON_GPS)).m, axis=1)"
   ]
  },
  {
   "cell_type": "code",
   "execution_count": null,
   "metadata": {
    "ExecuteTime": {
     "end_time": "2017-11-29T12:59:16.376960Z",
     "start_time": "2017-11-29T12:59:16.341865Z"
    },
    "collapsed": false
   },
   "outputs": [],
   "source": [
    "Overview_coo_timing_range_test[Overview_coo_timing_range_test.Tag_position_track_code.isin(['TR'+str(n) for n in range(4,11)])]"
   ]
  },
  {
   "cell_type": "code",
   "execution_count": null,
   "metadata": {
    "ExecuteTime": {
     "end_time": "2017-11-29T13:12:27.881270Z",
     "start_time": "2017-11-29T13:12:27.581963Z"
    },
    "collapsed": false
   },
   "outputs": [],
   "source": [
    "# onderstaande geeft enkel tracks als ik 2 uur aftrek van de uren gegeven in Overview\n",
    "\n",
    "sub = test_pos.set_index('Time')['2017-08-10 14:18':'2017-08-10 14:22'] \n",
    "\n",
    "fig,ax = plt.subplots(figsize=(6,6))\n",
    "walls.plot('x', 'y', c='black', ax=ax, label='')\n",
    "sub.plot('Longitude', 'Latitude', ax=ax, label='VPS', marker='.')\n",
    "sub.plot('LON_GPS', 'LAT_GPS', ax=ax, label='GPS', marker='.')\n",
    "plt.legend()\n",
    "\n",
    "ax.set_title('Mean error on track: {:.2f} m'.format(sub.error.mean()))"
   ]
  },
  {
   "cell_type": "code",
   "execution_count": null,
   "metadata": {
    "collapsed": true
   },
   "outputs": [],
   "source": []
  }
 ],
 "metadata": {
  "kernelspec": {
   "display_name": "Python 3",
   "language": "python",
   "name": "python3"
  },
  "language_info": {
   "codemirror_mode": {
    "name": "ipython",
    "version": 3
   },
   "file_extension": ".py",
   "mimetype": "text/x-python",
   "name": "python",
   "nbconvert_exporter": "python",
   "pygments_lexer": "ipython3",
   "version": "3.5.4"
  },
  "nav_menu": {},
  "toc": {
   "navigate_menu": true,
   "number_sections": true,
   "sideBar": true,
   "threshold": "2",
   "toc_cell": true,
   "toc_section_display": "block",
   "toc_window_display": true
  }
 },
 "nbformat": 4,
 "nbformat_minor": 1
}
